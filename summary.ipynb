{
 "cells": [
  {
   "cell_type": "code",
   "execution_count": 1,
   "id": "7bc1755f-6cf7-40f5-a836-d13887183822",
   "metadata": {},
   "outputs": [],
   "source": [
    "import json\n",
    "import pathlib\n",
    "import typing\n",
    "\n",
    "from icecream import ic\n",
    "from pydantic import BaseModel\n",
    "import pandas as pd"
   ]
  },
  {
   "cell_type": "code",
   "execution_count": 2,
   "id": "5cf7744a-b620-452e-a2ed-7d77e3e57881",
   "metadata": {},
   "outputs": [],
   "source": [
    "cve_path = pathlib.Path(\"cve.json\")\n",
    "\n",
    "with open(cve_path, \"r\") as fp:\n",
    "    data = json.load(fp)"
   ]
  },
  {
   "cell_type": "code",
   "execution_count": 3,
   "id": "0ae410ab-d1a8-40ce-ad72-f19b770a143d",
   "metadata": {},
   "outputs": [],
   "source": [
    "class Vulnerabilty (BaseModel):\n",
    "    id: str\n",
    "    severity: str\n",
    "    description: str\n",
    "    url: str\n",
    "    kind: str\n",
    "    artifact: str\n",
    "    version: str\n",
    "    fix: str\n",
    "    location: typing.List[str]"
   ]
  },
  {
   "cell_type": "code",
   "execution_count": 4,
   "id": "41667f27-3dd1-4dd6-813e-b6da2c241e92",
   "metadata": {},
   "outputs": [],
   "source": [
    "vuln_set: dict = {}\n",
    "\n",
    "for item in data[\"matches\"]:\n",
    "    #ic(item)\n",
    "    id = item[\"vulnerability\"][\"id\"]\n",
    "    \n",
    "    if id not in vuln_set:\n",
    "        vuln_set[id] = Vulnerabilty(\n",
    "            id = item[\"vulnerability\"][\"id\"],\n",
    "            description = item[\"vulnerability\"][\"description\"],\n",
    "            severity = item[\"vulnerability\"][\"severity\"],\n",
    "            fix = item[\"vulnerability\"][\"fix\"][\"versions\"][0],\n",
    "            url = item[\"vulnerability\"][\"urls\"][0],\n",
    "            kind = item[\"artifact\"][\"type\"],\n",
    "            artifact = item[\"artifact\"][\"name\"],\n",
    "            version = item[\"artifact\"][\"version\"],\n",
    "            location = [ item[\"artifact\"][\"locations\"][0][\"path\"] ],\n",
    "        )\n",
    "    else:\n",
    "        vuln_set[id].location.append(item[\"artifact\"][\"locations\"][0][\"path\"])"
   ]
  },
  {
   "cell_type": "code",
   "execution_count": 5,
   "id": "7c193686-d13f-4ceb-bf3f-dcb11601e6e3",
   "metadata": {},
   "outputs": [
    {
     "data": {
      "text/html": [
       "<div>\n",
       "<style scoped>\n",
       "    .dataframe tbody tr th:only-of-type {\n",
       "        vertical-align: middle;\n",
       "    }\n",
       "\n",
       "    .dataframe tbody tr th {\n",
       "        vertical-align: top;\n",
       "    }\n",
       "\n",
       "    .dataframe thead th {\n",
       "        text-align: right;\n",
       "    }\n",
       "</style>\n",
       "<table border=\"1\" class=\"dataframe\">\n",
       "  <thead>\n",
       "    <tr style=\"text-align: right;\">\n",
       "      <th></th>\n",
       "      <th>severity</th>\n",
       "      <th>kind</th>\n",
       "      <th>artifact</th>\n",
       "      <th>version</th>\n",
       "      <th>fix</th>\n",
       "      <th>description</th>\n",
       "      <th>location</th>\n",
       "      <th>id</th>\n",
       "    </tr>\n",
       "  </thead>\n",
       "  <tbody>\n",
       "  </tbody>\n",
       "</table>\n",
       "</div>"
      ],
      "text/plain": [
       "Empty DataFrame\n",
       "Columns: [severity, kind, artifact, version, fix, description, location, id]\n",
       "Index: []"
      ]
     },
     "execution_count": 5,
     "metadata": {},
     "output_type": "execute_result"
    }
   ],
   "source": [
    "df = pd.DataFrame([\n",
    "        item.__dict__\n",
    "        for item in vuln_set.values()\n",
    "    ])\n",
    "\n",
    "columns = [ \"severity\", \"kind\", \"artifact\", \"version\", \"fix\", \"description\", \"location\", \"id\", \"url\" ]\n",
    "df = df.reindex(columns=columns)\n",
    "df = df.sort_values(by=[ \"severity\", \"kind\", \"artifact\", \"version\" ])\n",
    "\n",
    "df_report = df.drop(\"url\", axis=1)\n",
    "df_report.head()"
   ]
  },
  {
   "cell_type": "code",
   "execution_count": 6,
   "id": "0ddc8382-d5db-466a-82c4-17f02ab86547",
   "metadata": {},
   "outputs": [
    {
     "data": {
      "text/html": [
       "<div>\n",
       "<style scoped>\n",
       "    .dataframe tbody tr th:only-of-type {\n",
       "        vertical-align: middle;\n",
       "    }\n",
       "\n",
       "    .dataframe tbody tr th {\n",
       "        vertical-align: top;\n",
       "    }\n",
       "\n",
       "    .dataframe thead th {\n",
       "        text-align: right;\n",
       "    }\n",
       "</style>\n",
       "<table border=\"1\" class=\"dataframe\">\n",
       "  <thead>\n",
       "    <tr style=\"text-align: right;\">\n",
       "      <th></th>\n",
       "      <th>severity</th>\n",
       "      <th>kind</th>\n",
       "      <th>artifact</th>\n",
       "      <th>version</th>\n",
       "      <th>fix</th>\n",
       "      <th>description</th>\n",
       "      <th>location</th>\n",
       "      <th>id</th>\n",
       "    </tr>\n",
       "  </thead>\n",
       "  <tbody>\n",
       "  </tbody>\n",
       "</table>\n",
       "</div>"
      ],
      "text/plain": [
       "Empty DataFrame\n",
       "Columns: [severity, kind, artifact, version, fix, description, location, id]\n",
       "Index: []"
      ]
     },
     "execution_count": 6,
     "metadata": {},
     "output_type": "execute_result"
    }
   ],
   "source": [
    "df_report"
   ]
  },
  {
   "cell_type": "code",
   "execution_count": 7,
   "id": "36bd9071-1bb3-42ec-ad71-51cd7e493bbc",
   "metadata": {},
   "outputs": [],
   "source": [
    "with open(pathlib.Path(\"todo.json\"), \"w\") as fp:\n",
    "    data = json.loads(df.to_json(orient=\"records\"))\n",
    "    fp.write(json.dumps(data, indent=4, sort_keys=True))"
   ]
  }
 ],
 "metadata": {
  "kernelspec": {
   "display_name": "Python 3 (ipykernel)",
   "language": "python",
   "name": "python3"
  },
  "language_info": {
   "codemirror_mode": {
    "name": "ipython",
    "version": 3
   },
   "file_extension": ".py",
   "mimetype": "text/x-python",
   "name": "python",
   "nbconvert_exporter": "python",
   "pygments_lexer": "ipython3",
   "version": "3.8.3"
  }
 },
 "nbformat": 4,
 "nbformat_minor": 5
}
